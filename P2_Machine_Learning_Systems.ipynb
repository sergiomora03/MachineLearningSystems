{
  "nbformat": 4,
  "nbformat_minor": 0,
  "metadata": {
    "colab": {
      "name": "P2 - Machine Learning Systems",
      "provenance": [],
      "collapsed_sections": [],
      "authorship_tag": "ABX9TyMktiPLxZPOanxMfVm//0h3",
      "include_colab_link": true
    },
    "kernelspec": {
      "name": "python3",
      "display_name": "Python 3"
    }
  },
  "cells": [
    {
      "cell_type": "markdown",
      "metadata": {
        "id": "view-in-github",
        "colab_type": "text"
      },
      "source": [
        "<a href=\"https://colab.research.google.com/github/sergiomora03/MachineLearningSystems/blob/master/P2_Machine_Learning_Systems.ipynb\" target=\"_parent\"><img src=\"https://colab.research.google.com/assets/colab-badge.svg\" alt=\"Open In Colab\"/></a>"
      ]
    },
    {
      "cell_type": "markdown",
      "metadata": {
        "id": "tNhHbaB9wOnS",
        "colab_type": "text"
      },
      "source": [
        "<center>\n",
        "\n",
        "![](https://uniandes.edu.co/sites/default/files/logo-uniandes.png)\n",
        "\n",
        "# Maestría en Inteligencia Analítica para la toma de decisiones\n",
        "\n",
        "## Modelos Avanzados de Análisis de Datos: Machine Learning Systems.\n",
        "\n",
        "Instructor: Alejandro Correa Bahnsen\n",
        "\n",
        "</center>\n",
        "\n",
        "\n",
        "* email: al.bahnsen@gmail.com\n",
        "* twitter: @albahnsen\n",
        "* github: albahnsen\n",
        "\n",
        "\n",
        "# Integrantes\n",
        "\n",
        "* Nidia Marcela Ortiz Sandoval <nm.ortiz33@uniandes.edu.co>\n",
        "* Carlos Francisco Silva Ortiz <cf.silvao@uniandes.edu.co>\n",
        "* German Guillermo Torres Hernandez <gg.torres84@uniandes.edu.co>\n",
        "* Sergio Alberto Mora Pardo <s.morap@uniandes.edu.co>"
      ]
    },
    {
      "cell_type": "markdown",
      "metadata": {
        "id": "cdiQnCDutMd5",
        "colab_type": "text"
      },
      "source": [
        "# Project 2\n",
        "\n",
        "# Used Vehicle Price Prediction"
      ]
    },
    {
      "cell_type": "markdown",
      "metadata": {
        "id": "pfN3K278tPKA",
        "colab_type": "text"
      },
      "source": [
        "## Introduction\n",
        "\n",
        "- 1.2 Million listings scraped from TrueCar.com - Price, Mileage, Make, Model dataset from Kaggle: [data](https://www.kaggle.com/jpayne/852k-used-car-listings)\n",
        "- Each observation represents the price of an used car"
      ]
    },
    {
      "cell_type": "code",
      "metadata": {
        "id": "7MzrfgLzs1as",
        "colab_type": "code",
        "colab": {
          "base_uri": "https://localhost:8080/",
          "height": 71
        },
        "outputId": "88ab957a-f9ab-47b3-fc04-abf02a89983d"
      },
      "source": [
        "import os\n",
        "from google.colab import drive\n",
        "import matplotlib.pyplot as plt\n",
        "import pandas as pd\n",
        "import xgboost as xgb\n",
        "import datetime\n",
        "from math import sqrt\n",
        "from numpy import hstack, vstack, asarray, zeros, arange, invert, round, int\n",
        "from sklearn.datasets import make_regression\n",
        "from sklearn.model_selection import KFold\n",
        "from sklearn.model_selection import train_test_split\n",
        "from sklearn.metrics import mean_squared_error\n",
        "from sklearn.linear_model import LinearRegression\n",
        "from sklearn.linear_model import ElasticNet\n",
        "from sklearn.neighbors import KNeighborsRegressor\n",
        "from sklearn.tree import DecisionTreeRegressor\n",
        "from sklearn.svm import SVR\n",
        "from sklearn.ensemble import AdaBoostRegressor\n",
        "from sklearn.ensemble import GradientBoostingRegressor\n",
        "from sklearn.ensemble import BaggingRegressor\n",
        "from sklearn.ensemble import RandomForestRegressor\n",
        "from sklearn.ensemble import ExtraTreesRegressor\n",
        "from sklearn.model_selection import RandomizedSearchCV\n",
        "from xgboost.sklearn import XGBRegressor\n",
        "from sklearn import preprocessing\n",
        "from sklearn.ensemble import StackingRegressor\n",
        "from random import seed, randrange, sample\n",
        "from sklearn.externals import joblib\n",
        "\n",
        "%matplotlib inline"
      ],
      "execution_count": 1,
      "outputs": [
        {
          "output_type": "stream",
          "text": [
            "/usr/local/lib/python3.6/dist-packages/sklearn/externals/joblib/__init__.py:15: FutureWarning: sklearn.externals.joblib is deprecated in 0.21 and will be removed in 0.23. Please import this functionality directly from joblib, which can be installed with: pip install joblib. If this warning is raised when loading pickled models, you may need to re-serialize those models with scikit-learn 0.21+.\n",
            "  warnings.warn(msg, category=FutureWarning)\n"
          ],
          "name": "stderr"
        }
      ]
    },
    {
      "cell_type": "code",
      "metadata": {
        "id": "wuTgpdO_tK6F",
        "colab_type": "code",
        "colab": {}
      },
      "source": [
        "data = pd.read_csv('https://raw.githubusercontent.com/albahnsen/AdvancedMethodsDataAnalysisClass/master/datasets/dataTrain_carListings.zip')"
      ],
      "execution_count": 2,
      "outputs": []
    },
    {
      "cell_type": "code",
      "metadata": {
        "id": "P319VDGateKs",
        "colab_type": "code",
        "colab": {
          "base_uri": "https://localhost:8080/",
          "height": 204
        },
        "outputId": "c45b12a2-a961-4e57-dac8-06e75df045da"
      },
      "source": [
        "data[['State','Make','Model']] = data[['State','Make','Model']].astype('category')\n",
        "data.head()"
      ],
      "execution_count": 4,
      "outputs": [
        {
          "output_type": "execute_result",
          "data": {
            "text/html": [
              "<div>\n",
              "<style scoped>\n",
              "    .dataframe tbody tr th:only-of-type {\n",
              "        vertical-align: middle;\n",
              "    }\n",
              "\n",
              "    .dataframe tbody tr th {\n",
              "        vertical-align: top;\n",
              "    }\n",
              "\n",
              "    .dataframe thead th {\n",
              "        text-align: right;\n",
              "    }\n",
              "</style>\n",
              "<table border=\"1\" class=\"dataframe\">\n",
              "  <thead>\n",
              "    <tr style=\"text-align: right;\">\n",
              "      <th></th>\n",
              "      <th>Price</th>\n",
              "      <th>Year</th>\n",
              "      <th>Mileage</th>\n",
              "      <th>State</th>\n",
              "      <th>Make</th>\n",
              "      <th>Model</th>\n",
              "    </tr>\n",
              "  </thead>\n",
              "  <tbody>\n",
              "    <tr>\n",
              "      <th>0</th>\n",
              "      <td>21490</td>\n",
              "      <td>2014</td>\n",
              "      <td>31909</td>\n",
              "      <td>MD</td>\n",
              "      <td>Nissan</td>\n",
              "      <td>MuranoAWD</td>\n",
              "    </tr>\n",
              "    <tr>\n",
              "      <th>1</th>\n",
              "      <td>21250</td>\n",
              "      <td>2016</td>\n",
              "      <td>25741</td>\n",
              "      <td>KY</td>\n",
              "      <td>Chevrolet</td>\n",
              "      <td>CamaroCoupe</td>\n",
              "    </tr>\n",
              "    <tr>\n",
              "      <th>2</th>\n",
              "      <td>20925</td>\n",
              "      <td>2016</td>\n",
              "      <td>24633</td>\n",
              "      <td>SC</td>\n",
              "      <td>Hyundai</td>\n",
              "      <td>Santa</td>\n",
              "    </tr>\n",
              "    <tr>\n",
              "      <th>3</th>\n",
              "      <td>14500</td>\n",
              "      <td>2012</td>\n",
              "      <td>84026</td>\n",
              "      <td>OK</td>\n",
              "      <td>Jeep</td>\n",
              "      <td>Grand</td>\n",
              "    </tr>\n",
              "    <tr>\n",
              "      <th>4</th>\n",
              "      <td>32488</td>\n",
              "      <td>2013</td>\n",
              "      <td>22816</td>\n",
              "      <td>TN</td>\n",
              "      <td>Jeep</td>\n",
              "      <td>Wrangler</td>\n",
              "    </tr>\n",
              "  </tbody>\n",
              "</table>\n",
              "</div>"
            ],
            "text/plain": [
              "   Price  Year  Mileage State       Make        Model\n",
              "0  21490  2014    31909    MD     Nissan    MuranoAWD\n",
              "1  21250  2016    25741    KY  Chevrolet  CamaroCoupe\n",
              "2  20925  2016    24633    SC    Hyundai        Santa\n",
              "3  14500  2012    84026    OK       Jeep        Grand\n",
              "4  32488  2013    22816    TN       Jeep     Wrangler"
            ]
          },
          "metadata": {
            "tags": []
          },
          "execution_count": 4
        }
      ]
    },
    {
      "cell_type": "code",
      "metadata": {
        "id": "bcM0IzdxtizA",
        "colab_type": "code",
        "colab": {
          "base_uri": "https://localhost:8080/",
          "height": 238
        },
        "outputId": "374cee09-8958-43d6-8a8f-c0cb27cfaf55"
      },
      "source": [
        "data.info()"
      ],
      "execution_count": 32,
      "outputs": [
        {
          "output_type": "stream",
          "text": [
            "<class 'pandas.core.frame.DataFrame'>\n",
            "RangeIndex: 500000 entries, 0 to 499999\n",
            "Data columns (total 6 columns):\n",
            " #   Column   Non-Null Count   Dtype   \n",
            "---  ------   --------------   -----   \n",
            " 0   Price    500000 non-null  int64   \n",
            " 1   Year     500000 non-null  int64   \n",
            " 2   Mileage  500000 non-null  int64   \n",
            " 3   State    500000 non-null  category\n",
            " 4   Make     500000 non-null  category\n",
            " 5   Model    500000 non-null  category\n",
            "dtypes: category(3), int64(3)\n",
            "memory usage: 13.4 MB\n"
          ],
          "name": "stdout"
        }
      ]
    },
    {
      "cell_type": "code",
      "metadata": {
        "id": "ucrxdq44toCu",
        "colab_type": "code",
        "colab": {
          "base_uri": "https://localhost:8080/",
          "height": 34
        },
        "outputId": "8c7e1c29-c948-4f14-a78c-7380d04cd472"
      },
      "source": [
        "data.shape"
      ],
      "execution_count": 33,
      "outputs": [
        {
          "output_type": "execute_result",
          "data": {
            "text/plain": [
              "(500000, 6)"
            ]
          },
          "metadata": {
            "tags": []
          },
          "execution_count": 33
        }
      ]
    },
    {
      "cell_type": "code",
      "metadata": {
        "id": "BxS5T1eRtqJq",
        "colab_type": "code",
        "colab": {
          "base_uri": "https://localhost:8080/",
          "height": 170
        },
        "outputId": "c4390c77-7ef4-48a2-c31d-4c4736125ea7"
      },
      "source": [
        "data.Price.describe()"
      ],
      "execution_count": 34,
      "outputs": [
        {
          "output_type": "execute_result",
          "data": {
            "text/plain": [
              "count    500000.000000\n",
              "mean      21144.186304\n",
              "std       10753.259704\n",
              "min        5001.000000\n",
              "25%       13499.000000\n",
              "50%       18450.000000\n",
              "75%       26998.000000\n",
              "max       79999.000000\n",
              "Name: Price, dtype: float64"
            ]
          },
          "metadata": {
            "tags": []
          },
          "execution_count": 34
        }
      ]
    },
    {
      "cell_type": "code",
      "metadata": {
        "id": "7imiM08Utquf",
        "colab_type": "code",
        "colab": {
          "base_uri": "https://localhost:8080/",
          "height": 296
        },
        "outputId": "5bd936c0-87b2-4062-963b-7f2565669973"
      },
      "source": [
        "data.plot(kind='scatter', y='Price', x='Year')"
      ],
      "execution_count": 35,
      "outputs": [
        {
          "output_type": "execute_result",
          "data": {
            "text/plain": [
              "<matplotlib.axes._subplots.AxesSubplot at 0x7fc721980f60>"
            ]
          },
          "metadata": {
            "tags": []
          },
          "execution_count": 35
        },
        {
          "output_type": "display_data",
          "data": {
            "image/png": "[encoded data removed]",
            "text/plain": [
              "<Figure size 432x288 with 1 Axes>"
            ]
          },
          "metadata": {
            "tags": [],
            "needs_background": "light"
          }
        }
      ]
    },
    {
      "cell_type": "code",
      "metadata": {
        "id": "7EkfaR_itvoV",
        "colab_type": "code",
        "colab": {
          "base_uri": "https://localhost:8080/",
          "height": 296
        },
        "outputId": "62a4bf03-d9ea-4bf1-82ea-ab05418b466a"
      },
      "source": [
        "data.plot(kind='scatter', y='Price', x='Mileage')"
      ],
      "execution_count": 36,
      "outputs": [
        {
          "output_type": "execute_result",
          "data": {
            "text/plain": [
              "<matplotlib.axes._subplots.AxesSubplot at 0x7fc7217dd5f8>"
            ]
          },
          "metadata": {
            "tags": []
          },
          "execution_count": 36
        },
        {
          "output_type": "display_data",
          "data": {
            "image/png": "[encoded data removed]",
            "text/plain": [
              "<Figure size 432x288 with 1 Axes>"
            ]
          },
          "metadata": {
            "tags": [],
            "needs_background": "light"
          }
        }
      ]
    },
    {
      "cell_type": "code",
      "metadata": {
        "id": "xJaqHVkOtyF4",
        "colab_type": "code",
        "colab": {
          "base_uri": "https://localhost:8080/",
          "height": 34
        },
        "outputId": "23590822-832d-44cd-edee-43fefbdb05eb"
      },
      "source": [
        "data.columns"
      ],
      "execution_count": 37,
      "outputs": [
        {
          "output_type": "execute_result",
          "data": {
            "text/plain": [
              "Index(['Price', 'Year', 'Mileage', 'State', 'Make', 'Model'], dtype='object')"
            ]
          },
          "metadata": {
            "tags": []
          },
          "execution_count": 37
        }
      ]
    },
    {
      "cell_type": "markdown",
      "metadata": {
        "id": "VOUJbZbSty8W",
        "colab_type": "text"
      },
      "source": [
        "# Exercise P2.1 (50%)\n",
        "\n",
        "Develop a machine learning model that predicts the price of the of car using as an input ['Year', 'Mileage', 'State', 'Make', 'Model']\n",
        "\n",
        "#### Evaluation:\n",
        "- 25% - Performance of the models using a manually implemented K-Fold (K=10) cross-validation\n",
        "- 25% - Notebook explaining the process for selecting the best model. You must specify how the calibration of each of the parameters is done and how these change the performance of the model. It is expected that a clear comparison will be made of all implemented models.. Present the most relevant conslusions about the whole process. "
      ]
    },
    {
      "cell_type": "markdown",
      "metadata": {
        "id": "044Igys4yQos",
        "colab_type": "text"
      },
      "source": [
        "### Transform Data"
      ]
    },
    {
      "cell_type": "code",
      "metadata": {
        "id": "zVbYCbCBt3Or",
        "colab_type": "code",
        "colab": {}
      },
      "source": [
        "data_dummy = pd.get_dummies(data)"
      ],
      "execution_count": 3,
      "outputs": []
    },
    {
      "cell_type": "code",
      "metadata": {
        "id": "blbbicSg5k69",
        "colab_type": "code",
        "colab": {}
      },
      "source": [
        "y = data_dummy.Price.values\n",
        "X = data_dummy.drop('Price', axis=1).values\n",
        "X_train, X_test, y_train, y_test = train_test_split(X, y, test_size=0.3, random_state=123)"
      ],
      "execution_count": 4,
      "outputs": []
    },
    {
      "cell_type": "markdown",
      "metadata": {
        "id": "NywTYczgxzcI",
        "colab_type": "text"
      },
      "source": [
        "### First Method: Bagging Linear Regression With Boostrap Sustitution\n",
        "\n"
      ]
    },
    {
      "cell_type": "markdown",
      "metadata": {
        "id": "B5B5y6NAFc-F",
        "colab_type": "text"
      },
      "source": [
        "This implementation is based on [Bagged Avering of Regression Models](https://link.springer.com/content/pdf/10.1007%2F0-387-34224-9_7.pdf) and whit some of our code."
      ]
    },
    {
      "cell_type": "code",
      "metadata": {
        "id": "CUya355r55wH",
        "colab_type": "code",
        "colab": {}
      },
      "source": [
        "def BaggedLinearRegressorCV(cants = 50000, cantmdl = 20, kf = 10, mdl = LinearRegression()):\n",
        "  '''\n",
        "  Bagging Linear Regression with Boostrap\n",
        "\n",
        "  Parameters:\n",
        "  cants (int): samples quantity from original train to input in the model\n",
        "  cantmdl (int): models quantity to do.\n",
        "  kf (int): folds quantity to implements with cross-validation.\n",
        "  mdl (object): models to be used to train with KFolds and ensemble with weighet averange.\n",
        "\n",
        "  Returns:\n",
        "  double: RMSE, Root mean square of errors about bagging model.\n",
        "  array: alpha, Weighet averange vector to minimaze errors.\n",
        "  array objects: mdls, vector with models used.\n",
        "  '''\n",
        "  # Create initial values\n",
        "  mdls = list() \n",
        "  rmses = list()\n",
        "  \n",
        "  # Boostrap selection\n",
        "  for j in range(cantmdl):\n",
        "    print('Model: ', j)\n",
        "    bestrmse = 9999999999\n",
        "    bestmdl = 0\n",
        "    Xi = sample(range(1, len(list(X_train))), cants)\n",
        "    X_train1 = X_train[Xi]\n",
        "    y_train1 = y_train[Xi]\n",
        "    ks = round(cants/kf,0).astype(int)\n",
        "\n",
        "    # CV with K-Fold defined in KF var\n",
        "    for i in range(kf):\n",
        "        X_train2 = pd.DataFrame(X_train1)\n",
        "        y_train2 = pd.DataFrame(y_train1)\n",
        "        X_train2 = X_train2[invert(X_train2.index.isin(arange(i*ks,(i+1)*ks)))]\n",
        "        y_train2 = y_train2[invert(y_train2.index.isin(arange(i*ks,(i+1)*ks)))]\n",
        "        X_test2 = X_train1[arange(i*ks,(i+1)*ks)]\n",
        "        y_test2 = y_train1[arange(i*ks,(i+1)*ks)]\n",
        "        mdl.fit(X_train2,y_train2)\n",
        "        rmse = mean_squared_error(mdl.predict(X_test2),y_test2)**0.5\n",
        "        print('\\t rmse Fold ',i,' = %3.f' %rmse)\n",
        "        if rmse < bestrmse:\n",
        "            bestrmse = rmse;\n",
        "            bestmdl = mdl;\n",
        "    mdls.append(bestmdl)\n",
        "    rmses.append(bestrmse)\n",
        "\n",
        "  # Apply weight vote\n",
        "  error = zeros(cantmdl)\n",
        "  for i in range(cantmdl):\n",
        "      error[i]=(mean_squared_error(mdls[i].predict(X_test),y_test)**0.5)\n",
        "  alpha = (1 - error) / (1 - error).sum()\n",
        "  alpha = (1/alpha)/sum(1/alpha)\n",
        "  pred = pd.DataFrame(0, index=arange(len(y_test)), columns=range(cantmdl))\n",
        "  for i in range(cantmdl):\n",
        "      pred[i] = (pd.DataFrame(mdls[i].predict(X_test)))\n",
        "  RMSE = mean_squared_error((pred * alpha).sum(axis=1),y_test)**0.5\n",
        "  print('RMSE in Bagged Linear Model = %3.f' %RMSE)\n",
        "\n",
        "\n",
        "  return RMSE,  alpha, mdls"
      ],
      "execution_count": 10,
      "outputs": []
    },
    {
      "cell_type": "code",
      "metadata": {
        "id": "ncz-OjNMIZ_4",
        "colab_type": "code",
        "colab": {
          "base_uri": "https://localhost:8080/",
          "height": 595
        },
        "outputId": "3064b185-4806-48c8-f478-37f5d5b847ed"
      },
      "source": [
        "RMSE, alpha, mdls = BaggedLinearRegressorCV(cantmdl=3)"
      ],
      "execution_count": 68,
      "outputs": [
        {
          "output_type": "stream",
          "text": [
            "Model:  0\n",
            "\t rmse Fold  0  = 4534\n",
            "\t rmse Fold  1  = 4371\n",
            "\t rmse Fold  2  = 4387\n",
            "\t rmse Fold  3  = 4501\n",
            "\t rmse Fold  4  = 4355\n",
            "\t rmse Fold  5  = 4357\n",
            "\t rmse Fold  6  = 4473\n",
            "\t rmse Fold  7  = 4369\n",
            "\t rmse Fold  8  = 4432\n",
            "\t rmse Fold  9  = 4384\n",
            "Model:  1\n",
            "\t rmse Fold  0  = 4325\n",
            "\t rmse Fold  1  = 4537\n",
            "\t rmse Fold  2  = 4660\n",
            "\t rmse Fold  3  = 4448\n",
            "\t rmse Fold  4  = 4591\n",
            "\t rmse Fold  5  = 4292\n",
            "\t rmse Fold  6  = 4626\n",
            "\t rmse Fold  7  = 4464\n",
            "\t rmse Fold  8  = 4428\n",
            "\t rmse Fold  9  = 4484\n",
            "Model:  2\n",
            "\t rmse Fold  0  = 4430\n",
            "\t rmse Fold  1  = 4385\n",
            "\t rmse Fold  2  = 4585\n",
            "\t rmse Fold  3  = 4354\n",
            "\t rmse Fold  4  = 4350\n",
            "\t rmse Fold  5  = 4384\n",
            "\t rmse Fold  6  = 4565\n",
            "\t rmse Fold  7  = 4131\n",
            "\t rmse Fold  8  = 4133\n",
            "\t rmse Fold  9  = 4397\n",
            "RMSE in Bagged Linear Model = 4441\n"
          ],
          "name": "stdout"
        }
      ]
    },
    {
      "cell_type": "code",
      "metadata": {
        "id": "L2o_9IbqP7rI",
        "colab_type": "code",
        "colab": {
          "base_uri": "https://localhost:8080/",
          "height": 34
        },
        "outputId": "5e7d6eeb-e5e0-46c0-ae76-aa80f347a72e"
      },
      "source": [
        "RMSE"
      ],
      "execution_count": 66,
      "outputs": [
        {
          "output_type": "execute_result",
          "data": {
            "text/plain": [
              "4448.329298881056"
            ]
          },
          "metadata": {
            "tags": []
          },
          "execution_count": 66
        }
      ]
    },
    {
      "cell_type": "code",
      "metadata": {
        "id": "UbkfuZUYSms5",
        "colab_type": "code",
        "colab": {
          "base_uri": "https://localhost:8080/",
          "height": 34
        },
        "outputId": "fd9fa2a1-dc39-4e5d-ba2e-c4956fbc763d"
      },
      "source": [
        "alpha"
      ],
      "execution_count": 69,
      "outputs": [
        {
          "output_type": "execute_result",
          "data": {
            "text/plain": [
              "array([0.33333333, 0.33333333, 0.33333333])"
            ]
          },
          "metadata": {
            "tags": []
          },
          "execution_count": 69
        }
      ]
    },
    {
      "cell_type": "code",
      "metadata": {
        "id": "eoue2z1nSqrD",
        "colab_type": "code",
        "colab": {
          "base_uri": "https://localhost:8080/",
          "height": 68
        },
        "outputId": "335eb34f-52e5-47f2-94ac-ad7f4dbcd4cd"
      },
      "source": [
        "mdls"
      ],
      "execution_count": 70,
      "outputs": [
        {
          "output_type": "execute_result",
          "data": {
            "text/plain": [
              "[LinearRegression(copy_X=True, fit_intercept=True, n_jobs=None, normalize=False),\n",
              " LinearRegression(copy_X=True, fit_intercept=True, n_jobs=None, normalize=False),\n",
              " LinearRegression(copy_X=True, fit_intercept=True, n_jobs=None, normalize=False)]"
            ]
          },
          "metadata": {
            "tags": []
          },
          "execution_count": 70
        }
      ]
    },
    {
      "cell_type": "markdown",
      "metadata": {
        "id": "ZOOulb1JBWiM",
        "colab_type": "text"
      },
      "source": [
        " ### Second Method: Super Learner"
      ]
    },
    {
      "cell_type": "markdown",
      "metadata": {
        "id": "_OTWYk5FFsJA",
        "colab_type": "text"
      },
      "source": [
        "This implementation is based on [Super Learner](https://www.degruyter.com/view/journals/sagmb/6/1/article-sagmb.2007.6.1.1309.xml.xml) and some modifications.\n",
        "\n",
        "The super learner algorithm is an application of stacked generalization, called stacking or blending, to k-fold cross-validation where all models use the same k-fold splits of the data and a meta-model is fit on the out-of-fold predictions from each model.\n",
        "\n",
        "This implementation isn´t use manually k-fold because the finallly aim is to compare those methods and sustent the razons of selected model we choose."
      ]
    },
    {
      "cell_type": "code",
      "metadata": {
        "id": "sAvfJVx19gWE",
        "colab_type": "code",
        "colab": {}
      },
      "source": [
        "def get_models():\n",
        "  models = list()\n",
        "  models.append(AdaBoostRegressor())\n",
        "  models.append(GradientBoostingRegressor())\n",
        "  # models.append(BaggingRegressor(n_estimators=10, n_jobs = -1))\n",
        "  models.append(RandomForestRegressor(n_estimators=10, n_jobs = -1))\n",
        "  models.append(ExtraTreesRegressor(n_estimators=10, n_jobs = -1))\n",
        "  #models.append(XGBRegressor(n_jobs = -1))\n",
        "  return models"
      ],
      "execution_count": 5,
      "outputs": []
    },
    {
      "cell_type": "code",
      "metadata": {
        "id": "S7awabE8ESHf",
        "colab_type": "code",
        "colab": {}
      },
      "source": [
        "def get_out_of_fold_predictions(X, y, models):\n",
        "  meta_X, meta_y = list(), list()\n",
        "  # define split of data\n",
        "  kfold = KFold(n_splits=10, shuffle=True)\n",
        "\t# enumerate splits\n",
        "  for train_ix, test_ix in kfold.split(X):\n",
        "    fold_yhats = list()\n",
        "    # get data\n",
        "    train_X, test_X = X[train_ix], X[test_ix]\n",
        "    train_y, test_y = y[train_ix], y[test_ix]\n",
        "    meta_y.extend(test_y)\n",
        "    # fit and make predictions with each sub-model\n",
        "    for model in models:\n",
        "      print(model)\n",
        "      model.fit(train_X, train_y)\n",
        "      yhat = model.predict(test_X)\n",
        "      # store columns\n",
        "      fold_yhats.append(yhat.reshape(len(yhat),1))\n",
        "    # store fold yhats as columns\n",
        "    meta_X.append(hstack(fold_yhats))\n",
        "    return vstack(meta_X), asarray(meta_y)"
      ],
      "execution_count": 6,
      "outputs": []
    },
    {
      "cell_type": "code",
      "metadata": {
        "id": "x173idp0EVWh",
        "colab_type": "code",
        "colab": {}
      },
      "source": [
        "# fit all base models on the training dataset\n",
        "def fit_base_models(X, y, models):\n",
        "\tfor model in models:\n",
        "\t\tmodel.fit(X, y)"
      ],
      "execution_count": 7,
      "outputs": []
    },
    {
      "cell_type": "code",
      "metadata": {
        "id": "Va6BQyt6EXCR",
        "colab_type": "code",
        "colab": {}
      },
      "source": [
        "# fit a meta model\n",
        "def fit_meta_model(X, y):\n",
        "\tmodel = LinearRegression()#SVR()\n",
        "\tmodel.fit(X, y)\n",
        "\treturn model"
      ],
      "execution_count": 8,
      "outputs": []
    },
    {
      "cell_type": "code",
      "metadata": {
        "id": "xkObsQ-4EYmD",
        "colab_type": "code",
        "colab": {}
      },
      "source": [
        "# evaluate a list of models on a dataset\n",
        "def evaluate_models(X, y, models):\n",
        "\tfor model in models:\n",
        "\t\tyhat = model.predict(X)\n",
        "\t\tmse = mean_squared_error(y, yhat)\n",
        "\t\tprint('%s: RMSE %.3f' % (model.__class__.__name__, sqrt(mse)))"
      ],
      "execution_count": 9,
      "outputs": []
    },
    {
      "cell_type": "code",
      "metadata": {
        "id": "U8RTS3LNEaHN",
        "colab_type": "code",
        "colab": {}
      },
      "source": [
        "# make predictions with stacked model\n",
        "def super_learner_predictions(X, models, meta_model):\n",
        "\tmeta_X = list()\n",
        "\tfor model in models:\n",
        "\t\tyhat = model.predict(X)\n",
        "\t\tmeta_X.append(yhat.reshape(len(yhat),1))\n",
        "\tmeta_X = hstack(meta_X)\n",
        "\t# predict\n",
        "\treturn meta_model.predict(meta_X)"
      ],
      "execution_count": 10,
      "outputs": []
    },
    {
      "cell_type": "code",
      "metadata": {
        "id": "SilvanSqXr3l",
        "colab_type": "code",
        "colab": {
          "base_uri": "https://localhost:8080/",
          "height": 663
        },
        "outputId": "d07d5c4b-5bad-4105-9841-abe3dcdd3978"
      },
      "source": [
        "# get models\n",
        "models = get_models()\n",
        "# get out of fold predictions\n",
        "meta_X, meta_y = get_out_of_fold_predictions(X, y, models)\n",
        "print('Meta ', meta_X.shape, meta_y.shape)"
      ],
      "execution_count": null,
      "outputs": [
        {
          "output_type": "stream",
          "text": [
            "AdaBoostRegressor(base_estimator=None, learning_rate=1.0, loss='linear',\n",
            "                  n_estimators=50, random_state=None)\n",
            "GradientBoostingRegressor(alpha=0.9, ccp_alpha=0.0, criterion='friedman_mse',\n",
            "                          init=None, learning_rate=0.1, loss='ls', max_depth=3,\n",
            "                          max_features=None, max_leaf_nodes=None,\n",
            "                          min_impurity_decrease=0.0, min_impurity_split=None,\n",
            "                          min_samples_leaf=1, min_samples_split=2,\n",
            "                          min_weight_fraction_leaf=0.0, n_estimators=100,\n",
            "                          n_iter_no_change=None, presort='deprecated',\n",
            "                          random_state=None, subsample=1.0, tol=0.0001,\n",
            "                          validation_fraction=0.1, verbose=0, warm_start=False)\n",
            "BaggingRegressor(base_estimator=None, bootstrap=True, bootstrap_features=False,\n",
            "                 max_features=1.0, max_samples=1.0, n_estimators=10, n_jobs=-1,\n",
            "                 oob_score=False, random_state=None, verbose=0,\n",
            "                 warm_start=False)\n",
            "RandomForestRegressor(bootstrap=True, ccp_alpha=0.0, criterion='mse',\n",
            "                      max_depth=None, max_features='auto', max_leaf_nodes=None,\n",
            "                      max_samples=None, min_impurity_decrease=0.0,\n",
            "                      min_impurity_split=None, min_samples_leaf=1,\n",
            "                      min_samples_split=2, min_weight_fraction_leaf=0.0,\n",
            "                      n_estimators=10, n_jobs=-1, oob_score=False,\n",
            "                      random_state=None, verbose=0, warm_start=False)\n",
            "ExtraTreesRegressor(bootstrap=False, ccp_alpha=0.0, criterion='mse',\n",
            "                    max_depth=None, max_features='auto', max_leaf_nodes=None,\n",
            "                    max_samples=None, min_impurity_decrease=0.0,\n",
            "                    min_impurity_split=None, min_samples_leaf=1,\n",
            "                    min_samples_split=2, min_weight_fraction_leaf=0.0,\n",
            "                    n_estimators=10, n_jobs=-1, oob_score=False,\n",
            "                    random_state=None, verbose=0, warm_start=False)\n",
            "XGBRegressor(base_score=0.5, booster='gbtree', colsample_bylevel=1,\n",
            "             colsample_bynode=1, colsample_bytree=1, gamma=0,\n",
            "             importance_type='gain', learning_rate=0.1, max_delta_step=0,\n",
            "             max_depth=3, min_child_weight=1, missing=None, n_estimators=100,\n",
            "             n_jobs=-1, nthread=None, objective='reg:linear', random_state=0,\n",
            "             reg_alpha=0, reg_lambda=1, scale_pos_weight=1, seed=None,\n",
            "             silent=None, subsample=1, verbosity=1)\n",
            "[00:36:01] WARNING: /workspace/src/objective/regression_obj.cu:152: reg:linear is now deprecated in favor of reg:squarederror.\n",
            "Meta  (2250, 6) (2250,)\n"
          ],
          "name": "stdout"
        }
      ]
    },
    {
      "cell_type": "code",
      "metadata": {
        "id": "VTzXdsFeuKcd",
        "colab_type": "code",
        "colab": {
          "base_uri": "https://localhost:8080/",
          "height": 153
        },
        "outputId": "fa8312f6-6c7c-46a9-c9a5-e9872b3c280d"
      },
      "source": [
        "# fit base models\n",
        "fit_base_models(X, y, models)\n",
        "# fit the meta model\n",
        "meta_model = fit_meta_model(meta_X, meta_y)\n",
        "# evaluate base models\n",
        "evaluate_models(X_val, y_val, models)\n",
        "# evaluate meta model\n",
        "yhat = super_learner_predictions(X_val, models, meta_model)\n",
        "print('Super Learner: RMSE %.3f' % (sqrt(mean_squared_error(y_val, yhat))))"
      ],
      "execution_count": null,
      "outputs": [
        {
          "output_type": "stream",
          "text": [
            "[00:44:50] WARNING: /workspace/src/objective/regression_obj.cu:152: reg:linear is now deprecated in favor of reg:squarederror.\n",
            "AdaBoostRegressor: RMSE 11092.620\n",
            "GradientBoostingRegressor: RMSE 6686.566\n",
            "BaggingRegressor: RMSE 4485.472\n",
            "RandomForestRegressor: RMSE 4526.489\n",
            "ExtraTreesRegressor: RMSE 4466.105\n",
            "XGBRegressor: RMSE 6690.930\n",
            "Super Learner: RMSE 4302.434\n"
          ],
          "name": "stdout"
        }
      ]
    },
    {
      "cell_type": "markdown",
      "metadata": {
        "id": "ctFZuEDRb4TN",
        "colab_type": "text"
      },
      "source": [
        "### Conclusion\n",
        "\n",
        "As we saw, the models have similar RMSE; this is interesting for us because we thought that the more complex models would have less MSE returned, but,  we've got a similar MSE with the two models: one with many 'basic' models like the Linear Regressions, inside a bagging agregation and traning data sampled using boostrap with ensemble of n:\n",
        "\n",
        " * LinearRegression(copy_X=True, fit_intercept=True, n_jobs=None, normalize=False).\n",
        "\n",
        "In the other hand, we have a ensemble with two stages. The first using:\n",
        "\n",
        "* AdaBoostRegressor()\n",
        "* GradientBoostingRegressor()\n",
        "* BaggingRegressor(n_estimators=10, n_jobs = -1)\n",
        "* RandomForestRegressor(n_estimators=10, n_jobs = -1)\n",
        "* ExtraTreesRegressor(n_estimators=10, n_jobs = -1)\n",
        "* XGBRegressor(n_jobs = -1)\n",
        "\n",
        "Next, the result was going to second stage. In this stage, the output of the first stage is used as input for a linear regression.  \n",
        "\n",
        "However, those´re competitive models generally used to predict/forecast and have a low error tolerance. And now, we asking: what is the best model? If, we check the priorities doing a Machine Learning System, we determined some aspects:\n",
        "\n",
        "1. The fit of the model to the data.\n",
        "2. The capability to consume hardware.\n",
        "3. The complex of model or ensemble.\n",
        "\n",
        "One of the most important aspects in machine learning models deployment is the hardware consumption because if the adoption is too complex, expensive or slow to use, the lifetime and maintenance of the project will be off-putting and if the complexity of this is excessive, would be overkill deploy it from some data. \n",
        "\n",
        "Finally, in this terms and keeping in mind that the important id 'Keep it simple' the selected model is the Bagging Linear Regression wich has an RMSE of 4448. \n",
        "\n"
      ]
    },
    {
      "cell_type": "markdown",
      "metadata": {
        "id": "lYbwtiLBt-iq",
        "colab_type": "text"
      },
      "source": [
        "# Exercise P2.2 (50%)\n",
        "\n",
        "Create an API of the model.\n",
        "\n",
        "Example:\n",
        "![](https://raw.githubusercontent.com/albahnsen/PracticalMachineLearningClass/master/notebooks/images/img015.PNG)\n",
        "\n",
        "#### Evaluation:\n",
        "- 40% - API hosted on a cloud service\n",
        "- 10% - Show screenshots of the model doing the predictions on the local machine"
      ]
    },
    {
      "cell_type": "markdown",
      "metadata": {
        "id": "CqH0reAPXk5h",
        "colab_type": "text"
      },
      "source": [
        "## API\n",
        "\n",
        "You can see the hosted API in AWS click [here](http://ec2-3-14-9-184.us-east-2.compute.amazonaws.com:8888/)"
      ]
    },
    {
      "cell_type": "code",
      "metadata": {
        "id": "zMccLsy2cBXZ",
        "colab_type": "code",
        "colab": {}
      },
      "source": [
        "joblib.dump(mdls, 'model_lr.pkl', compress=3)"
      ],
      "execution_count": null,
      "outputs": []
    },
    {
      "cell_type": "code",
      "metadata": {
        "id": "FtwgQeCNoWkz",
        "colab_type": "code",
        "colab": {}
      },
      "source": [
        "pd.DataFrame(alpha).to_csv('alpha.csv')"
      ],
      "execution_count": null,
      "outputs": []
    },
    {
      "cell_type": "markdown",
      "metadata": {
        "id": "bdQrwFXOoe5w",
        "colab_type": "text"
      },
      "source": [
        "The files nedded to deploy the model in a API, was:\n",
        "\n",
        "* model_lr.pkl: The binary file with model.\n",
        "* alpha.csv: The csv file with weighets of models."
      ]
    },
    {
      "cell_type": "markdown",
      "metadata": {
        "id": "2Gz0sOxsXJch",
        "colab_type": "text"
      },
      "source": [
        "### Model running in local machine\n",
        "\n",
        "![](https://raw.githubusercontent.com/NecesitoUnNick/P2/master/img/apilocal01.png)\n",
        "\n",
        "![](https://raw.githubusercontent.com/NecesitoUnNick/P2/master/img/apilocal02.png)"
      ]
    },
    {
      "cell_type": "markdown",
      "metadata": {
        "id": "acQiRSMuzlBh",
        "colab_type": "text"
      },
      "source": [
        "### Conclusion\n",
        "\n",
        "\n",
        "with regard to the development of the API. We had some interesting challenges, such as the process of converting from a single input to a dummy dataframe or the fact of using parallel models, since using models that were trained in parallel, they make the forecasting process equally parallel and we had to retrain the model so it wouldn't hang up looking for threads in the server. We used a weighted average for the models, implementing it also cost us time, since it was necessary to replicate it in the server, just like the notebook. \n",
        "\n",
        "Moreover, we managed to use it on the server and start the required tests to upload it in production to the Amazon server."
      ]
    }
  ]
}